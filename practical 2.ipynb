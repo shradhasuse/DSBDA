{
 "cells": [
  {
   "cell_type": "code",
   "execution_count": 1,
   "id": "182403c1-d66a-41be-9c18-1b9bb87de1a8",
   "metadata": {},
   "outputs": [],
   "source": [
    "import numpy as np\n",
    "scores = np.array([[85, 90, 78, 92, 88],\n",
    "                    [72, 75, 80, 68, 74],\n",
    "                    [95, 88, 92, 96, 90,],\n",
    "                    [60, 65, 70, 58, 62],  \n",
    "                    [88, 84, 86, 89, 87]])"
   ]
  },
  {
   "cell_type": "code",
   "execution_count": 2,
   "id": "757b46a0-aad9-4dbd-a87e-8f18d1305b46",
   "metadata": {},
   "outputs": [
    {
     "name": "stdout",
     "output_type": "stream",
     "text": [
      "Student Score  [95 88 92 96 90]\n"
     ]
    }
   ],
   "source": [
    "student=scores[2,:]\n",
    "print(\"Student Score \",student)"
   ]
  },
  {
   "cell_type": "code",
   "execution_count": 3,
   "id": "29aa6cdf-9563-4cc2-9aaf-e61c1afba2df",
   "metadata": {},
   "outputs": [
    {
     "name": "stdout",
     "output_type": "stream",
     "text": [
      "Student Score [90 75 88 65 84]\n"
     ]
    }
   ],
   "source": [
    "student=scores[:,1]\n",
    "print(\"Student Score\", student)"
   ]
  },
  {
   "cell_type": "code",
   "execution_count": 4,
   "id": "de09d5e5-8a09-4f72-bd15-617817ce5a21",
   "metadata": {},
   "outputs": [
    {
     "name": "stdout",
     "output_type": "stream",
     "text": [
      "student scores [[85 90]\n",
      " [72 75]\n",
      " [95 88]]\n"
     ]
    }
   ],
   "source": [
    "student=scores[:3,:2]\n",
    "print(\"student scores\",student)"
   ]
  },
  {
   "cell_type": "code",
   "execution_count": 5,
   "id": "33189b38-d522-4bea-a6a7-214cd763e9d9",
   "metadata": {},
   "outputs": [
    {
     "name": "stdout",
     "output_type": "stream",
     "text": [
      "Student Scores [[70 58 62]\n",
      " [86 89 87]]\n"
     ]
    }
   ],
   "source": [
    "student=scores[3:,2:]\n",
    "print(\"Student Scores\" ,student)"
   ]
  },
  {
   "cell_type": "code",
   "execution_count": 6,
   "id": "dd6e29ac-7c1e-49e1-8347-df79807ed231",
   "metadata": {},
   "outputs": [
    {
     "name": "stdout",
     "output_type": "stream",
     "text": [
      "Scores with bonus marks: [[ 90  95  83  97  93]\n",
      " [ 77  80  85  73  79]\n",
      " [100  93  97 101  95]\n",
      " [ 65  70  75  63  67]\n",
      " [ 93  89  91  94  92]]\n"
     ]
    }
   ],
   "source": [
    "Bonus_marks=scores + 5\n",
    "print(\"Scores with bonus marks:\",Bonus_marks)"
   ]
  },
  {
   "cell_type": "code",
   "execution_count": 7,
   "id": "6cc0b9d0-ac4b-4b88-9f23-97d52656015a",
   "metadata": {},
   "outputs": [
    {
     "name": "stdout",
     "output_type": "stream",
     "text": [
      "Subject score [82 58 86 48 79]\n"
     ]
    }
   ],
   "source": [
    "sub_score=scores[:,3]-10\n",
    "print(\"Subject score\",sub_score)"
   ]
  },
  {
   "cell_type": "code",
   "execution_count": 8,
   "id": "7206b890-45ad-4106-9a22-ae17226ca9fa",
   "metadata": {},
   "outputs": [
    {
     "name": "stdout",
     "output_type": "stream",
     "text": [
      "perentages scores [86.6 73.8 92.2 63.  86.8]\n"
     ]
    }
   ],
   "source": [
    "total_marks=scores.sum(axis=1)\n",
    "percentages=(total_marks/500) * 100\n",
    "print(\"perentages scores\",percentages)"
   ]
  },
  {
   "cell_type": "code",
   "execution_count": 9,
   "id": "7a284347-5d1c-4dcb-af3e-ebdd1973eead",
   "metadata": {},
   "outputs": [
    {
     "name": "stdout",
     "output_type": "stream",
     "text": [
      "Average score per student [86.6 73.8 92.2 63.  86.8]\n"
     ]
    }
   ],
   "source": [
    "student_marks=scores.mean(axis=1)\n",
    "print(\"Average score per student\",student_marks)"
   ]
  },
  {
   "cell_type": "code",
   "execution_count": 10,
   "id": "5319c5b5-d485-4081-b179-4a5f88784d1d",
   "metadata": {},
   "outputs": [
    {
     "name": "stdout",
     "output_type": "stream",
     "text": [
      "student marks [433 369 461 315 434]\n"
     ]
    }
   ],
   "source": [
    "total_marks=scores.sum(axis=1)\n",
    "print(\"student marks\",total_marks)"
   ]
  },
  {
   "cell_type": "code",
   "execution_count": 11,
   "id": "9d9b5bd6-1e75-4c71-bcf3-670ce687cb29",
   "metadata": {},
   "outputs": [
    {
     "name": "stdout",
     "output_type": "stream",
     "text": [
      "Highest score : 96\n"
     ]
    }
   ],
   "source": [
    "highest_score = scores.max()\n",
    "print(\"Highest score :\",highest_score)"
   ]
  },
  {
   "cell_type": "code",
   "execution_count": 12,
   "id": "ee1d42f6-7bf3-437a-8c9f-4da22b4e8e11",
   "metadata": {},
   "outputs": [
    {
     "name": "stdout",
     "output_type": "stream",
     "text": [
      "Average score subject: [80.  80.4 81.2 80.6 80.2]\n"
     ]
    }
   ],
   "source": [
    "average_scores_subject = scores.mean(axis=0)\n",
    "print(\"Average score subject:\", average_scores_subject)\n"
   ]
  },
  {
   "cell_type": "code",
   "execution_count": 13,
   "id": "426edb2d-86dc-4c2c-9a24-3b44961796fc",
   "metadata": {},
   "outputs": [
    {
     "name": "stdout",
     "output_type": "stream",
     "text": [
      "Student with the lowest average score: Student 1\n"
     ]
    }
   ],
   "source": [
    "lowest_average_score_index = np.argmin(average_scores_subject)\n",
    "print(\"Student with the lowest average score: Student\", lowest_average_score_index + 1)"
   ]
  }
 ],
 "metadata": {
  "kernelspec": {
   "display_name": "Python 3 (ipykernel)",
   "language": "python",
   "name": "python3"
  },
  "language_info": {
   "codemirror_mode": {
    "name": "ipython",
    "version": 3
   },
   "file_extension": ".py",
   "mimetype": "text/x-python",
   "name": "python",
   "nbconvert_exporter": "python",
   "pygments_lexer": "ipython3",
   "version": "3.13.1"
  }
 },
 "nbformat": 4,
 "nbformat_minor": 5
}
