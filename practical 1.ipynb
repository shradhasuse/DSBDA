{
 "cells": [
  {
   "cell_type": "code",
   "execution_count": 3,
   "id": "6393ea39-6f4c-4968-9b33-5c4d1aeddbf4",
   "metadata": {},
   "outputs": [
    {
     "name": "stdout",
     "output_type": "stream",
     "text": [
      "Collecting numpy\n",
      "  Downloading numpy-2.2.2-cp313-cp313-win_amd64.whl.metadata (60 kB)\n",
      "Downloading numpy-2.2.2-cp313-cp313-win_amd64.whl (12.6 MB)\n",
      "   ---------------------------------------- 0.0/12.6 MB ? eta -:--:--\n",
      "   ------- -------------------------------- 2.4/12.6 MB 14.7 MB/s eta 0:00:01\n",
      "   --------- ------------------------------ 3.1/12.6 MB 9.9 MB/s eta 0:00:01\n",
      "   ----------- ---------------------------- 3.7/12.6 MB 6.5 MB/s eta 0:00:02\n",
      "   ------------- -------------------------- 4.2/12.6 MB 5.2 MB/s eta 0:00:02\n",
      "   -------------- ------------------------- 4.7/12.6 MB 4.8 MB/s eta 0:00:02\n",
      "   ----------------- ---------------------- 5.5/12.6 MB 4.3 MB/s eta 0:00:02\n",
      "   ------------------ --------------------- 5.8/12.6 MB 4.2 MB/s eta 0:00:02\n",
      "   -------------------- ------------------- 6.6/12.6 MB 3.8 MB/s eta 0:00:02\n",
      "   --------------------- ------------------ 6.8/12.6 MB 3.7 MB/s eta 0:00:02\n",
      "   ----------------------- ---------------- 7.3/12.6 MB 3.5 MB/s eta 0:00:02\n",
      "   -------------------------- ------------- 8.4/12.6 MB 3.6 MB/s eta 0:00:02\n",
      "   ----------------------------- ---------- 9.4/12.6 MB 3.8 MB/s eta 0:00:01\n",
      "   ------------------------------- -------- 10.0/12.6 MB 3.7 MB/s eta 0:00:01\n",
      "   ---------------------------------- ----- 10.7/12.6 MB 3.7 MB/s eta 0:00:01\n",
      "   ----------------------------------- ---- 11.3/12.6 MB 3.6 MB/s eta 0:00:01\n",
      "   ------------------------------------- -- 11.8/12.6 MB 3.6 MB/s eta 0:00:01\n",
      "   ---------------------------------------- 12.6/12.6 MB 3.5 MB/s eta 0:00:00\n",
      "Installing collected packages: numpy\n",
      "Successfully installed numpy-2.2.2\n",
      "Note: you may need to restart the kernel to use updated packages.\n"
     ]
    },
    {
     "name": "stderr",
     "output_type": "stream",
     "text": [
      "\n",
      "[notice] A new release of pip is available: 24.3.1 -> 25.0\n",
      "[notice] To update, run: python.exe -m pip install --upgrade pip\n"
     ]
    }
   ],
   "source": [
    "pip install numpy"
   ]
  },
  {
   "cell_type": "code",
   "execution_count": 4,
   "id": "22d6477a-0141-4e08-977f-8ae435b0a3b8",
   "metadata": {},
   "outputs": [],
   "source": [
    "import numpy as np"
   ]
  },
  {
   "cell_type": "code",
   "execution_count": 5,
   "id": "55f7db80-6275-40a2-8373-f844d954cbc4",
   "metadata": {},
   "outputs": [
    {
     "name": "stdout",
     "output_type": "stream",
     "text": [
      "[100 200 150 300 250 400 350]\n"
     ]
    }
   ],
   "source": [
    "sales = np.array([100, 200, 150, 300, 250, 400, 350])\n",
    "print(sales)"
   ]
  },
  {
   "cell_type": "code",
   "execution_count": 6,
   "id": "a5907f1d-c8f6-48a7-9039-c5d6914d1561",
   "metadata": {},
   "outputs": [
    {
     "name": "stdout",
     "output_type": "stream",
     "text": [
      "[10 40 90]\n"
     ]
    }
   ],
   "source": [
    "store1_prices = np.array([10, 20, 30])\n",
    "store2_prices = np.array([1, 2, 3])\n",
    "result = store1_prices * store2_prices\n",
    "print(result)"
   ]
  },
  {
   "cell_type": "code",
   "execution_count": 7,
   "id": "f0fbfdb6-3ede-4eac-8495-0b2e6ca8a47d",
   "metadata": {},
   "outputs": [
    {
     "name": "stdout",
     "output_type": "stream",
     "text": [
      "[300 400 500 600]\n"
     ]
    }
   ],
   "source": [
    "sales_january = np.array([300, 400])\n",
    "sales_february = np.array([500, 600])\n",
    "combined_sales = np.concatenate((sales_january, sales_february))\n",
    "print(combined_sales) "
   ]
  },
  {
   "cell_type": "code",
   "execution_count": 8,
   "id": "68029708-9dcd-4533-be30-ba5c7199ed1a",
   "metadata": {},
   "outputs": [
    {
     "name": "stdout",
     "output_type": "stream",
     "text": [
      "[80 90 85 95]\n"
     ]
    }
   ],
   "source": [
    "scores = np.array([[80, 90], [85, 95]])\n",
    "flat_scores = scores.flatten()\n",
    "print(flat_scores)"
   ]
  },
  {
   "cell_type": "code",
   "execution_count": 9,
   "id": "6312e595-80ec-4254-b09c-02441908787c",
   "metadata": {},
   "outputs": [
    {
     "name": "stdout",
     "output_type": "stream",
     "text": [
      "[[1 2 3]\n",
      " [4 5 6]]\n"
     ]
    }
   ],
   "source": [
    "data = np.array([1, 2, 3, 4, 5, 6])\n",
    "reshaped_data = data.reshape(2, 3)\n",
    "print(reshaped_data)"
   ]
  }
 ],
 "metadata": {
  "kernelspec": {
   "display_name": "Python 3 (ipykernel)",
   "language": "python",
   "name": "python3"
  },
  "language_info": {
   "codemirror_mode": {
    "name": "ipython",
    "version": 3
   },
   "file_extension": ".py",
   "mimetype": "text/x-python",
   "name": "python",
   "nbconvert_exporter": "python",
   "pygments_lexer": "ipython3",
   "version": "3.13.1"
  }
 },
 "nbformat": 4,
 "nbformat_minor": 5
}
