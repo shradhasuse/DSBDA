{
 "cells": [
  {
   "cell_type": "code",
   "execution_count": 10,
   "id": "84494f6a-e30d-472c-bdf1-5af5cdee1190",
   "metadata": {},
   "outputs": [],
   "source": [
    "import numpy as np\n",
    "import pandas as pd"
   ]
  },
  {
   "cell_type": "code",
   "execution_count": 21,
   "id": "524771ea-7b10-4a3f-8f53-6d0a803906e8",
   "metadata": {},
   "outputs": [
    {
     "data": {
      "text/html": [
       "<div>\n",
       "<style scoped>\n",
       "    .dataframe tbody tr th:only-of-type {\n",
       "        vertical-align: middle;\n",
       "    }\n",
       "\n",
       "    .dataframe tbody tr th {\n",
       "        vertical-align: top;\n",
       "    }\n",
       "\n",
       "    .dataframe thead th {\n",
       "        text-align: right;\n",
       "    }\n",
       "</style>\n",
       "<table border=\"1\" class=\"dataframe\">\n",
       "  <thead>\n",
       "    <tr style=\"text-align: right;\">\n",
       "      <th></th>\n",
       "      <th>Student ID</th>\n",
       "      <th>Name</th>\n",
       "      <th>Gender</th>\n",
       "      <th>Age</th>\n",
       "      <th>GPA</th>\n",
       "      <th>Major</th>\n",
       "      <th>Interested Domain</th>\n",
       "      <th>Projects</th>\n",
       "      <th>Future Career</th>\n",
       "      <th>Python</th>\n",
       "      <th>SQL</th>\n",
       "      <th>Java</th>\n",
       "    </tr>\n",
       "  </thead>\n",
       "  <tbody>\n",
       "    <tr>\n",
       "      <th>0</th>\n",
       "      <td>1</td>\n",
       "      <td>John Smith</td>\n",
       "      <td>Male</td>\n",
       "      <td>21</td>\n",
       "      <td>3.5</td>\n",
       "      <td>Computer Science</td>\n",
       "      <td>Artificial Intelligence</td>\n",
       "      <td>Chatbot Development</td>\n",
       "      <td>Machine Learning Researcher</td>\n",
       "      <td>Strong</td>\n",
       "      <td>Strong</td>\n",
       "      <td>Weak</td>\n",
       "    </tr>\n",
       "    <tr>\n",
       "      <th>1</th>\n",
       "      <td>2</td>\n",
       "      <td>Alice Johnson</td>\n",
       "      <td>Female</td>\n",
       "      <td>20</td>\n",
       "      <td>3.2</td>\n",
       "      <td>Computer Science</td>\n",
       "      <td>Data Science</td>\n",
       "      <td>Data Analytics</td>\n",
       "      <td>Data Scientist</td>\n",
       "      <td>Average</td>\n",
       "      <td>Strong</td>\n",
       "      <td>Weak</td>\n",
       "    </tr>\n",
       "    <tr>\n",
       "      <th>2</th>\n",
       "      <td>3</td>\n",
       "      <td>Robert Davis</td>\n",
       "      <td>Male</td>\n",
       "      <td>22</td>\n",
       "      <td>3.8</td>\n",
       "      <td>Computer Science</td>\n",
       "      <td>Software Development</td>\n",
       "      <td>E-commerce Website</td>\n",
       "      <td>Software Engineer</td>\n",
       "      <td>Strong</td>\n",
       "      <td>Strong</td>\n",
       "      <td>Average</td>\n",
       "    </tr>\n",
       "    <tr>\n",
       "      <th>3</th>\n",
       "      <td>4</td>\n",
       "      <td>Emily Wilson</td>\n",
       "      <td>Female</td>\n",
       "      <td>21</td>\n",
       "      <td>3.7</td>\n",
       "      <td>Computer Science</td>\n",
       "      <td>Web Development</td>\n",
       "      <td>Full-Stack Web App</td>\n",
       "      <td>Web Developer</td>\n",
       "      <td>Weak</td>\n",
       "      <td>Strong</td>\n",
       "      <td>Strong</td>\n",
       "    </tr>\n",
       "    <tr>\n",
       "      <th>4</th>\n",
       "      <td>5</td>\n",
       "      <td>Michael Brown</td>\n",
       "      <td>Male</td>\n",
       "      <td>23</td>\n",
       "      <td>3.4</td>\n",
       "      <td>Computer Science</td>\n",
       "      <td>Cybersecurity</td>\n",
       "      <td>Network Security</td>\n",
       "      <td>Information Security Analyst</td>\n",
       "      <td>Average</td>\n",
       "      <td>Weak</td>\n",
       "      <td>Strong</td>\n",
       "    </tr>\n",
       "    <tr>\n",
       "      <th>...</th>\n",
       "      <td>...</td>\n",
       "      <td>...</td>\n",
       "      <td>...</td>\n",
       "      <td>...</td>\n",
       "      <td>...</td>\n",
       "      <td>...</td>\n",
       "      <td>...</td>\n",
       "      <td>...</td>\n",
       "      <td>...</td>\n",
       "      <td>...</td>\n",
       "      <td>...</td>\n",
       "      <td>...</td>\n",
       "    </tr>\n",
       "    <tr>\n",
       "      <th>175</th>\n",
       "      <td>176</td>\n",
       "      <td>Elijah Davis</td>\n",
       "      <td>Male</td>\n",
       "      <td>22</td>\n",
       "      <td>3.7</td>\n",
       "      <td>Computer Science</td>\n",
       "      <td>Web Development</td>\n",
       "      <td>Full-Stack Web App</td>\n",
       "      <td>Web Developer</td>\n",
       "      <td>Weak</td>\n",
       "      <td>Strong</td>\n",
       "      <td>Strong</td>\n",
       "    </tr>\n",
       "    <tr>\n",
       "      <th>176</th>\n",
       "      <td>177</td>\n",
       "      <td>Emma Johnson</td>\n",
       "      <td>Female</td>\n",
       "      <td>20</td>\n",
       "      <td>3.6</td>\n",
       "      <td>Computer Science</td>\n",
       "      <td>Cybersecurity</td>\n",
       "      <td>Security Auditing</td>\n",
       "      <td>Information Security Analyst</td>\n",
       "      <td>Strong</td>\n",
       "      <td>Average</td>\n",
       "      <td>Weak</td>\n",
       "    </tr>\n",
       "    <tr>\n",
       "      <th>177</th>\n",
       "      <td>178</td>\n",
       "      <td>Liam Wilson</td>\n",
       "      <td>Male</td>\n",
       "      <td>21</td>\n",
       "      <td>3.4</td>\n",
       "      <td>Computer Science</td>\n",
       "      <td>Machine Learning</td>\n",
       "      <td>Natural Language Processing</td>\n",
       "      <td>Machine Learning Engineer</td>\n",
       "      <td>Strong</td>\n",
       "      <td>Average</td>\n",
       "      <td>Weak</td>\n",
       "    </tr>\n",
       "    <tr>\n",
       "      <th>178</th>\n",
       "      <td>179</td>\n",
       "      <td>Sophia Johnson</td>\n",
       "      <td>Female</td>\n",
       "      <td>22</td>\n",
       "      <td>3.5</td>\n",
       "      <td>Computer Science</td>\n",
       "      <td>Database Management</td>\n",
       "      <td>SQL Database Administration</td>\n",
       "      <td>Database Administrator</td>\n",
       "      <td>Weak</td>\n",
       "      <td>Strong</td>\n",
       "      <td>Average</td>\n",
       "    </tr>\n",
       "    <tr>\n",
       "      <th>179</th>\n",
       "      <td>180</td>\n",
       "      <td>Michael Brown</td>\n",
       "      <td>Male</td>\n",
       "      <td>23</td>\n",
       "      <td>3.7</td>\n",
       "      <td>Computer Science</td>\n",
       "      <td>Cloud Computing</td>\n",
       "      <td>Cloud Solution Architecture</td>\n",
       "      <td>Cloud Solutions Architect</td>\n",
       "      <td>Strong</td>\n",
       "      <td>Strong</td>\n",
       "      <td>Weak</td>\n",
       "    </tr>\n",
       "  </tbody>\n",
       "</table>\n",
       "<p>180 rows × 12 columns</p>\n",
       "</div>"
      ],
      "text/plain": [
       "     Student ID            Name  Gender  Age  GPA             Major  \\\n",
       "0             1      John Smith    Male   21  3.5  Computer Science   \n",
       "1             2   Alice Johnson  Female   20  3.2  Computer Science   \n",
       "2             3    Robert Davis    Male   22  3.8  Computer Science   \n",
       "3             4    Emily Wilson  Female   21  3.7  Computer Science   \n",
       "4             5   Michael Brown    Male   23  3.4  Computer Science   \n",
       "..          ...             ...     ...  ...  ...               ...   \n",
       "175         176    Elijah Davis    Male   22  3.7  Computer Science   \n",
       "176         177    Emma Johnson  Female   20  3.6  Computer Science   \n",
       "177         178     Liam Wilson    Male   21  3.4  Computer Science   \n",
       "178         179  Sophia Johnson  Female   22  3.5  Computer Science   \n",
       "179         180   Michael Brown    Male   23  3.7  Computer Science   \n",
       "\n",
       "           Interested Domain                     Projects  \\\n",
       "0    Artificial Intelligence          Chatbot Development   \n",
       "1               Data Science               Data Analytics   \n",
       "2       Software Development           E-commerce Website   \n",
       "3            Web Development           Full-Stack Web App   \n",
       "4              Cybersecurity             Network Security   \n",
       "..                       ...                          ...   \n",
       "175          Web Development           Full-Stack Web App   \n",
       "176            Cybersecurity            Security Auditing   \n",
       "177         Machine Learning  Natural Language Processing   \n",
       "178      Database Management  SQL Database Administration   \n",
       "179          Cloud Computing  Cloud Solution Architecture   \n",
       "\n",
       "                    Future Career   Python      SQL     Java  \n",
       "0     Machine Learning Researcher   Strong   Strong     Weak  \n",
       "1                  Data Scientist  Average   Strong     Weak  \n",
       "2               Software Engineer   Strong   Strong  Average  \n",
       "3                   Web Developer     Weak   Strong   Strong  \n",
       "4    Information Security Analyst  Average     Weak   Strong  \n",
       "..                            ...      ...      ...      ...  \n",
       "175                 Web Developer     Weak   Strong   Strong  \n",
       "176  Information Security Analyst   Strong  Average     Weak  \n",
       "177     Machine Learning Engineer   Strong  Average     Weak  \n",
       "178        Database Administrator     Weak   Strong  Average  \n",
       "179     Cloud Solutions Architect   Strong   Strong     Weak  \n",
       "\n",
       "[180 rows x 12 columns]"
      ]
     },
     "execution_count": 21,
     "metadata": {},
     "output_type": "execute_result"
    }
   ],
   "source": [
    "df = pd.read_csv(\"\\\\Users\\\\Welcome\\\\Documents\\\\dsbda2\\\\cs_students.csv\")   \n",
    "df"
   ]
  },
  {
   "cell_type": "code",
   "execution_count": 36,
   "id": "baf198ce-39fa-46c4-8cfc-cfd08e2dafb8",
   "metadata": {},
   "outputs": [
    {
     "name": "stdout",
     "output_type": "stream",
     "text": [
      "Student ID    90.500000\n",
      "Age           22.116667\n",
      "GPA            3.615000\n",
      "dtype: float64\n"
     ]
    }
   ],
   "source": [
    "# Select only numeric columns\n",
    "col = df.select_dtypes(include=[np.number])\n",
    "# Calculate mean for each numeric column\n",
    "mean = col.mean()\n",
    "print(mean)"
   ]
  },
  {
   "cell_type": "code",
   "execution_count": 30,
   "id": "5acb86d9-da08-499c-9ca2-635ce8bf633b",
   "metadata": {},
   "outputs": [
    {
     "data": {
      "text/plain": [
       "22.116666666666667"
      ]
     },
     "execution_count": 30,
     "metadata": {},
     "output_type": "execute_result"
    }
   ],
   "source": [
    "# To find mean of specific column\n",
    "df.loc[:,'Age'].mean()"
   ]
  },
  {
   "cell_type": "code",
   "execution_count": 41,
   "id": "441f0466-1715-47fb-8a91-d0d2d03d4a0d",
   "metadata": {
    "scrolled": true
   },
   "outputs": [
    {
     "name": "stdout",
     "output_type": "stream",
     "text": [
      "0    8.500000\n",
      "1    8.400000\n",
      "2    9.600000\n",
      "3    9.566667\n",
      "dtype: float64\n"
     ]
    }
   ],
   "source": [
    "#numeric columns\n",
    "num_col = df.select_dtypes(include=[np.number])\n",
    "#row-wise mean for first 4 rows\n",
    "mean_4 = num_col.head(4).mean(axis=1)\n",
    "print(mean_4)"
   ]
  },
  {
   "cell_type": "code",
   "execution_count": 38,
   "id": "dbbd6040-eb9e-43da-b74d-b57c222823c6",
   "metadata": {},
   "outputs": [
    {
     "data": {
      "text/plain": [
       "Student ID    90.5\n",
       "Age           22.0\n",
       "GPA            3.6\n",
       "dtype: float64"
      ]
     },
     "execution_count": 38,
     "metadata": {},
     "output_type": "execute_result"
    }
   ],
   "source": [
    "# Median\n",
    "# All Columns\n",
    "col = df.select_dtypes(include=[np.number])\n",
    "col.median()"
   ]
  },
  {
   "cell_type": "code",
   "execution_count": 39,
   "id": "6d61fee0-c8d4-4879-8fb5-0d1a916dd771",
   "metadata": {},
   "outputs": [
    {
     "data": {
      "text/plain": [
       "22.0"
      ]
     },
     "execution_count": 39,
     "metadata": {},
     "output_type": "execute_result"
    }
   ],
   "source": [
    "# specific column\n",
    "df.loc[:,'Age'].median()"
   ]
  },
  {
   "cell_type": "code",
   "execution_count": 43,
   "id": "e574004b-f14d-4058-90d0-99d0f0c7d801",
   "metadata": {
    "scrolled": true
   },
   "outputs": [
    {
     "name": "stdout",
     "output_type": "stream",
     "text": [
      "0    3.5\n",
      "1    3.2\n",
      "2    3.8\n",
      "3    4.0\n",
      "dtype: float64\n"
     ]
    }
   ],
   "source": [
    "#numeric columns\n",
    "num_col = df.select_dtypes(include=[np.number])\n",
    "#row-wise median for  first 4 rows\n",
    "median_4 = num_col.head(4).median(axis=1)\n",
    "print(median_4)"
   ]
  },
  {
   "cell_type": "code",
   "execution_count": 44,
   "id": "373d37ce-7e6c-4139-b9b7-3245c073fa50",
   "metadata": {},
   "outputs": [
    {
     "data": {
      "text/html": [
       "<div>\n",
       "<style scoped>\n",
       "    .dataframe tbody tr th:only-of-type {\n",
       "        vertical-align: middle;\n",
       "    }\n",
       "\n",
       "    .dataframe tbody tr th {\n",
       "        vertical-align: top;\n",
       "    }\n",
       "\n",
       "    .dataframe thead th {\n",
       "        text-align: right;\n",
       "    }\n",
       "</style>\n",
       "<table border=\"1\" class=\"dataframe\">\n",
       "  <thead>\n",
       "    <tr style=\"text-align: right;\">\n",
       "      <th></th>\n",
       "      <th>Student ID</th>\n",
       "      <th>Age</th>\n",
       "      <th>GPA</th>\n",
       "    </tr>\n",
       "  </thead>\n",
       "  <tbody>\n",
       "    <tr>\n",
       "      <th>0</th>\n",
       "      <td>1</td>\n",
       "      <td>22.0</td>\n",
       "      <td>3.7</td>\n",
       "    </tr>\n",
       "    <tr>\n",
       "      <th>1</th>\n",
       "      <td>2</td>\n",
       "      <td>NaN</td>\n",
       "      <td>NaN</td>\n",
       "    </tr>\n",
       "    <tr>\n",
       "      <th>2</th>\n",
       "      <td>3</td>\n",
       "      <td>NaN</td>\n",
       "      <td>NaN</td>\n",
       "    </tr>\n",
       "    <tr>\n",
       "      <th>3</th>\n",
       "      <td>4</td>\n",
       "      <td>NaN</td>\n",
       "      <td>NaN</td>\n",
       "    </tr>\n",
       "    <tr>\n",
       "      <th>4</th>\n",
       "      <td>5</td>\n",
       "      <td>NaN</td>\n",
       "      <td>NaN</td>\n",
       "    </tr>\n",
       "    <tr>\n",
       "      <th>...</th>\n",
       "      <td>...</td>\n",
       "      <td>...</td>\n",
       "      <td>...</td>\n",
       "    </tr>\n",
       "    <tr>\n",
       "      <th>175</th>\n",
       "      <td>176</td>\n",
       "      <td>NaN</td>\n",
       "      <td>NaN</td>\n",
       "    </tr>\n",
       "    <tr>\n",
       "      <th>176</th>\n",
       "      <td>177</td>\n",
       "      <td>NaN</td>\n",
       "      <td>NaN</td>\n",
       "    </tr>\n",
       "    <tr>\n",
       "      <th>177</th>\n",
       "      <td>178</td>\n",
       "      <td>NaN</td>\n",
       "      <td>NaN</td>\n",
       "    </tr>\n",
       "    <tr>\n",
       "      <th>178</th>\n",
       "      <td>179</td>\n",
       "      <td>NaN</td>\n",
       "      <td>NaN</td>\n",
       "    </tr>\n",
       "    <tr>\n",
       "      <th>179</th>\n",
       "      <td>180</td>\n",
       "      <td>NaN</td>\n",
       "      <td>NaN</td>\n",
       "    </tr>\n",
       "  </tbody>\n",
       "</table>\n",
       "<p>180 rows × 3 columns</p>\n",
       "</div>"
      ],
      "text/plain": [
       "     Student ID   Age  GPA\n",
       "0             1  22.0  3.7\n",
       "1             2   NaN  NaN\n",
       "2             3   NaN  NaN\n",
       "3             4   NaN  NaN\n",
       "4             5   NaN  NaN\n",
       "..          ...   ...  ...\n",
       "175         176   NaN  NaN\n",
       "176         177   NaN  NaN\n",
       "177         178   NaN  NaN\n",
       "178         179   NaN  NaN\n",
       "179         180   NaN  NaN\n",
       "\n",
       "[180 rows x 3 columns]"
      ]
     },
     "execution_count": 44,
     "metadata": {},
     "output_type": "execute_result"
    }
   ],
   "source": [
    "# Mode\n",
    "col = df.select_dtypes(include=[np.number])\n",
    "col.mode()"
   ]
  },
  {
   "cell_type": "code",
   "execution_count": 45,
   "id": "3d1a9015-c178-4097-a549-0a6ee39c3d60",
   "metadata": {},
   "outputs": [
    {
     "data": {
      "text/plain": [
       "Student ID     1.0\n",
       "Age           20.0\n",
       "GPA            3.2\n",
       "dtype: float64"
      ]
     },
     "execution_count": 45,
     "metadata": {},
     "output_type": "execute_result"
    }
   ],
   "source": [
    "#Minimum\n",
    "col = df.select_dtypes(include=[np.number])\n",
    "col.min()"
   ]
  },
  {
   "cell_type": "code",
   "execution_count": 46,
   "id": "56b5878f-6b8e-4ee8-8743-03961f6034f7",
   "metadata": {},
   "outputs": [
    {
     "data": {
      "text/plain": [
       "Student ID    180.0\n",
       "Age            37.0\n",
       "GPA             3.9\n",
       "dtype: float64"
      ]
     },
     "execution_count": 46,
     "metadata": {},
     "output_type": "execute_result"
    }
   ],
   "source": [
    "# Maximum\n",
    "col = df.select_dtypes(include=[np.number])\n",
    "col.max()"
   ]
  },
  {
   "cell_type": "code",
   "execution_count": 47,
   "id": "691a53b5-0425-4983-a32c-4431843ee0ad",
   "metadata": {},
   "outputs": [
    {
     "data": {
      "text/plain": [
       "Student ID    52.105662\n",
       "Age            2.823040\n",
       "GPA            0.177341\n",
       "dtype: float64"
      ]
     },
     "execution_count": 47,
     "metadata": {},
     "output_type": "execute_result"
    }
   ],
   "source": [
    "# Standard Deviation\n",
    "col = df.select_dtypes(include=[np.number])\n",
    "col.std()"
   ]
  },
  {
   "cell_type": "code",
   "execution_count": 49,
   "id": "011010d3-2400-484f-8cf4-8652492c4bc5",
   "metadata": {},
   "outputs": [
    {
     "name": "stdout",
     "output_type": "stream",
     "text": [
      "0    10.897247\n",
      "1    10.063797\n",
      "2    10.746162\n",
      "3     9.902693\n",
      "dtype: float64\n"
     ]
    }
   ],
   "source": [
    "# Standard Deviation row wise\n",
    "#numeric columns\n",
    "num_col = df.select_dtypes(include=[np.number])\n",
    "#row-wise \n",
    "median_4 = num_col.head(4).std(axis=1)\n",
    "print(median_4)"
   ]
  },
  {
   "cell_type": "code",
   "execution_count": null,
   "id": "dbc45b3f-3a1b-4498-a3d4-f39a7970301c",
   "metadata": {},
   "outputs": [],
   "source": []
  }
 ],
 "metadata": {
  "kernelspec": {
   "display_name": "Python 3 (ipykernel)",
   "language": "python",
   "name": "python3"
  },
  "language_info": {
   "codemirror_mode": {
    "name": "ipython",
    "version": 3
   },
   "file_extension": ".py",
   "mimetype": "text/x-python",
   "name": "python",
   "nbconvert_exporter": "python",
   "pygments_lexer": "ipython3",
   "version": "3.11.7"
  }
 },
 "nbformat": 4,
 "nbformat_minor": 5
}
